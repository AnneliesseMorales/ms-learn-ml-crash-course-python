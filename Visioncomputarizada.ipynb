{
  "nbformat": 4,
  "nbformat_minor": 0,
  "metadata": {
    "colab": {
      "name": "Untitled5.ipynb",
      "provenance": [],
      "authorship_tag": "ABX9TyP4Cfh7sqh6mUUSL3Txf26t",
      "include_colab_link": true
    },
    "kernelspec": {
      "name": "python3",
      "display_name": "Python 3"
    }
  },
  "cells": [
    {
      "cell_type": "markdown",
      "metadata": {
        "id": "view-in-github",
        "colab_type": "text"
      },
      "source": [
        "<a href=\"https://colab.research.google.com/github/AnneliesseMorales/ms-learn-ml-crash-course-python/blob/master/Visioncomputarizada.ipynb\" target=\"_parent\"><img src=\"https://colab.research.google.com/assets/colab-badge.svg\" alt=\"Open In Colab\"/></a>"
      ]
    },
    {
      "cell_type": "code",
      "metadata": {
        "colab": {
          "base_uri": "https://localhost:8080/"
        },
        "id": "3Fejufl4yh0K",
        "outputId": "2a51d716-0e68-4c61-b5c5-5e2db465c9f5"
      },
      "source": [
        "!pip install --upgrade azure-cognitiveservices-vision-computervision -q #instalar paquete de Microsoft con los servicios cognitivos"
      ],
      "execution_count": 1,
      "outputs": [
        {
          "output_type": "stream",
          "text": [
            "\u001b[?25l\r\u001b[K     |███▉                            | 10kB 23.1MB/s eta 0:00:01\r\u001b[K     |███████▊                        | 20kB 26.5MB/s eta 0:00:01\r\u001b[K     |███████████▌                    | 30kB 30.5MB/s eta 0:00:01\r\u001b[K     |███████████████▍                | 40kB 33.1MB/s eta 0:00:01\r\u001b[K     |███████████████████▎            | 51kB 21.5MB/s eta 0:00:01\r\u001b[K     |███████████████████████         | 61kB 9.8MB/s eta 0:00:01\r\u001b[K     |███████████████████████████     | 71kB 10.7MB/s eta 0:00:01\r\u001b[K     |██████████████████████████████▊ | 81kB 11.4MB/s eta 0:00:01\r\u001b[K     |████████████████████████████████| 92kB 4.7MB/s \n",
            "\u001b[?25h\u001b[?25l\r\u001b[K     |███████▏                        | 10kB 23.9MB/s eta 0:00:01\r\u001b[K     |██████████████▍                 | 20kB 30.4MB/s eta 0:00:01\r\u001b[K     |█████████████████████▌          | 30kB 32.7MB/s eta 0:00:01\r\u001b[K     |████████████████████████████▊   | 40kB 35.0MB/s eta 0:00:01\r\u001b[K     |████████████████████████████████| 51kB 5.4MB/s \n",
            "\u001b[?25h"
          ],
          "name": "stdout"
        }
      ]
    },
    {
      "cell_type": "code",
      "metadata": {
        "id": "BOBE1fQryvgl"
      },
      "source": [
        "from azure.cognitiveservices.vision.computervision import ComputerVisionClient # Funcionalidades para conectarnos con nuestro recurso de Cognitive Services\r\n",
        "# y validar nuestro acceso.\r\n",
        "from msrest.authentication import CognitiveServicesCredentials\r\n"
      ],
      "execution_count": 37,
      "outputs": []
    },
    {
      "cell_type": "code",
      "metadata": {
        "id": "7atIGZVMzMVk"
      },
      "source": [
        "big_ben = \"https://upload.wikimedia.org/wikipedia/commons/9/93/Clock_Tower_-_Palace_of_Westminster%2C_London_-_May_2007.jpg\" #jalar la imagen"
      ],
      "execution_count": 3,
      "outputs": []
    },
    {
      "cell_type": "code",
      "metadata": {
        "id": "t5t6OMZ0z38k"
      },
      "source": [
        "key = \"82b31f00dbf14895a81b754736d8dc37\" #autenticacion\r\n",
        "endpoint = \"https://detectarobjetos23.cognitiveservices.azure.com/\""
      ],
      "execution_count": 10,
      "outputs": []
    },
    {
      "cell_type": "code",
      "metadata": {
        "colab": {
          "base_uri": "https://localhost:8080/"
        },
        "id": "UTuj_nDw05PF",
        "outputId": "bb96267c-7a8e-4c09-960c-f7c09fe82aa4"
      },
      "source": [
        "client = ComputerVisionClient(endpoint,CognitiveServicesCredentials(key)) #consumir el servicio de computer vision\r\n",
        "\r\n",
        "describe = client.describe_image(big_ben)\r\n",
        "\r\n",
        "dir(describe) #The dir() function returns all properties and methods of the specified object, without the values.\r\n",
        "\r\n",
        "# This function will return all the properties and methods, even built-in properties which are default for all object.\r\n"
      ],
      "execution_count": 38,
      "outputs": [
        {
          "output_type": "execute_result",
          "data": {
            "text/plain": [
              "['__class__',\n",
              " '__delattr__',\n",
              " '__dict__',\n",
              " '__dir__',\n",
              " '__doc__',\n",
              " '__eq__',\n",
              " '__format__',\n",
              " '__ge__',\n",
              " '__getattribute__',\n",
              " '__gt__',\n",
              " '__hash__',\n",
              " '__init__',\n",
              " '__init_subclass__',\n",
              " '__le__',\n",
              " '__lt__',\n",
              " '__module__',\n",
              " '__ne__',\n",
              " '__new__',\n",
              " '__reduce__',\n",
              " '__reduce_ex__',\n",
              " '__repr__',\n",
              " '__setattr__',\n",
              " '__sizeof__',\n",
              " '__str__',\n",
              " '__subclasshook__',\n",
              " '__weakref__',\n",
              " '_attribute_map',\n",
              " '_classify',\n",
              " '_create_xml_node',\n",
              " '_flatten_subtype',\n",
              " '_get_rest_key_parts',\n",
              " '_infer_class_models',\n",
              " '_subtype_map',\n",
              " '_validation',\n",
              " 'additional_properties',\n",
              " 'as_dict',\n",
              " 'captions',\n",
              " 'deserialize',\n",
              " 'enable_additional_properties_sending',\n",
              " 'from_dict',\n",
              " 'is_xml_model',\n",
              " 'metadata',\n",
              " 'request_id',\n",
              " 'serialize',\n",
              " 'tags',\n",
              " 'validate']"
            ]
          },
          "metadata": {
            "tags": []
          },
          "execution_count": 38
        }
      ]
    },
    {
      "cell_type": "code",
      "metadata": {
        "colab": {
          "base_uri": "https://localhost:8080/"
        },
        "id": "sXCgyY8z3Ff3",
        "outputId": "bd3b9536-603c-4c38-cd1b-ffb12748a696"
      },
      "source": [
        "describe.tags #describe lo que hay dentro de la funcion"
      ],
      "execution_count": 12,
      "outputs": [
        {
          "output_type": "execute_result",
          "data": {
            "text/plain": [
              "['sky',\n",
              " 'clock',\n",
              " 'outdoor',\n",
              " 'building',\n",
              " 'tower',\n",
              " 'tall',\n",
              " 'background',\n",
              " 'city',\n",
              " 'day']"
            ]
          },
          "metadata": {
            "tags": []
          },
          "execution_count": 12
        }
      ]
    },
    {
      "cell_type": "code",
      "metadata": {
        "colab": {
          "base_uri": "https://localhost:8080/"
        },
        "id": "NcEa5goL3XXl",
        "outputId": "8127b192-58eb-43d6-f820-a466d2661b7b"
      },
      "source": [
        "dir(describe.captions) "
      ],
      "execution_count": 13,
      "outputs": [
        {
          "output_type": "execute_result",
          "data": {
            "text/plain": [
              "['__add__',\n",
              " '__class__',\n",
              " '__contains__',\n",
              " '__delattr__',\n",
              " '__delitem__',\n",
              " '__dir__',\n",
              " '__doc__',\n",
              " '__eq__',\n",
              " '__format__',\n",
              " '__ge__',\n",
              " '__getattribute__',\n",
              " '__getitem__',\n",
              " '__gt__',\n",
              " '__hash__',\n",
              " '__iadd__',\n",
              " '__imul__',\n",
              " '__init__',\n",
              " '__init_subclass__',\n",
              " '__iter__',\n",
              " '__le__',\n",
              " '__len__',\n",
              " '__lt__',\n",
              " '__mul__',\n",
              " '__ne__',\n",
              " '__new__',\n",
              " '__reduce__',\n",
              " '__reduce_ex__',\n",
              " '__repr__',\n",
              " '__reversed__',\n",
              " '__rmul__',\n",
              " '__setattr__',\n",
              " '__setitem__',\n",
              " '__sizeof__',\n",
              " '__str__',\n",
              " '__subclasshook__',\n",
              " 'append',\n",
              " 'clear',\n",
              " 'copy',\n",
              " 'count',\n",
              " 'extend',\n",
              " 'index',\n",
              " 'insert',\n",
              " 'pop',\n",
              " 'remove',\n",
              " 'reverse',\n",
              " 'sort']"
            ]
          },
          "metadata": {
            "tags": []
          },
          "execution_count": 13
        }
      ]
    },
    {
      "cell_type": "code",
      "metadata": {
        "colab": {
          "base_uri": "https://localhost:8080/"
        },
        "id": "rVxnH0x03qVH",
        "outputId": "d763324e-d3ef-47a9-e521-f912a3d17fea"
      },
      "source": [
        "for caption in describe.captions: #imprime los captions dentro del objeto \r\n",
        "  print(caption.text,caption.confidence)"
      ],
      "execution_count": 14,
      "outputs": [
        {
          "output_type": "stream",
          "text": [
            "a large clock tower with Big Ben in the background 0.5151270627975464\n"
          ],
          "name": "stdout"
        }
      ]
    },
    {
      "cell_type": "code",
      "metadata": {
        "id": "w_czs3j94VJ9"
      },
      "source": [
        "detect = client.detect_objects(big_ben)"
      ],
      "execution_count": 15,
      "outputs": []
    },
    {
      "cell_type": "code",
      "metadata": {
        "colab": {
          "base_uri": "https://localhost:8080/"
        },
        "id": "FYPmApo74iVm",
        "outputId": "d21517aa-64a5-4f36-fdd7-95ad4c0fdf71"
      },
      "source": [
        "for obj in detect.objects:\r\n",
        "  print(obj.object_property,obj.rectangle)"
      ],
      "execution_count": 16,
      "outputs": [
        {
          "output_type": "stream",
          "text": [
            "Wall clock {'additional_properties': {}, 'x': 665, 'y': 2186, 'w': 340, 'h': 387}\n"
          ],
          "name": "stdout"
        }
      ]
    },
    {
      "cell_type": "code",
      "metadata": {
        "id": "h-j-y68v5RPh"
      },
      "source": [
        "landmarks = client.analyze_image_by_domain(\"landmarks\",big_ben)"
      ],
      "execution_count": 17,
      "outputs": []
    },
    {
      "cell_type": "code",
      "metadata": {
        "colab": {
          "base_uri": "https://localhost:8080/"
        },
        "id": "zeTdU0EK5sjl",
        "outputId": "a83d8f73-4892-45b8-e12a-07d0f191b27d"
      },
      "source": [
        "landmarks.result"
      ],
      "execution_count": 18,
      "outputs": [
        {
          "output_type": "execute_result",
          "data": {
            "text/plain": [
              "{'landmarks': [{'confidence': 0.9964759945869446, 'name': 'Big Ben'}]}"
            ]
          },
          "metadata": {
            "tags": []
          },
          "execution_count": 18
        }
      ]
    },
    {
      "cell_type": "code",
      "metadata": {
        "id": "uN-7-DYE52d-"
      },
      "source": [
        "analyze = client.analyze_image(big_ben)"
      ],
      "execution_count": 29,
      "outputs": []
    },
    {
      "cell_type": "code",
      "metadata": {
        "colab": {
          "base_uri": "https://localhost:8080/"
        },
        "id": "iYxqBJkg6EqN",
        "outputId": "d010ffa2-3cfa-47d7-d083-f7c51061c66c"
      },
      "source": [
        "dir(analyze)"
      ],
      "execution_count": 25,
      "outputs": [
        {
          "output_type": "execute_result",
          "data": {
            "text/plain": [
              "['__class__',\n",
              " '__delattr__',\n",
              " '__dict__',\n",
              " '__dir__',\n",
              " '__doc__',\n",
              " '__eq__',\n",
              " '__format__',\n",
              " '__ge__',\n",
              " '__getattribute__',\n",
              " '__gt__',\n",
              " '__hash__',\n",
              " '__init__',\n",
              " '__init_subclass__',\n",
              " '__le__',\n",
              " '__lt__',\n",
              " '__module__',\n",
              " '__ne__',\n",
              " '__new__',\n",
              " '__reduce__',\n",
              " '__reduce_ex__',\n",
              " '__repr__',\n",
              " '__setattr__',\n",
              " '__sizeof__',\n",
              " '__str__',\n",
              " '__subclasshook__',\n",
              " '__weakref__',\n",
              " '_attribute_map',\n",
              " '_classify',\n",
              " '_create_xml_node',\n",
              " '_flatten_subtype',\n",
              " '_get_rest_key_parts',\n",
              " '_infer_class_models',\n",
              " '_subtype_map',\n",
              " '_validation',\n",
              " 'additional_properties',\n",
              " 'adult',\n",
              " 'as_dict',\n",
              " 'brands',\n",
              " 'categories',\n",
              " 'color',\n",
              " 'description',\n",
              " 'deserialize',\n",
              " 'enable_additional_properties_sending',\n",
              " 'faces',\n",
              " 'from_dict',\n",
              " 'image_type',\n",
              " 'is_xml_model',\n",
              " 'metadata',\n",
              " 'objects',\n",
              " 'request_id',\n",
              " 'serialize',\n",
              " 'tags',\n",
              " 'validate']"
            ]
          },
          "metadata": {
            "tags": []
          },
          "execution_count": 25
        }
      ]
    },
    {
      "cell_type": "code",
      "metadata": {
        "colab": {
          "base_uri": "https://localhost:8080/"
        },
        "id": "-4ECntNr7SN1",
        "outputId": "b32ab8a1-920f-48a3-e70f-3bf95828b1c4"
      },
      "source": [
        "for category in analyze.categories:\r\n",
        "  print(category)"
      ],
      "execution_count": 36,
      "outputs": [
        {
          "output_type": "stream",
          "text": [
            "{'additional_properties': {}, 'name': 'building_', 'score': 0.76953125, 'detail': None}\n"
          ],
          "name": "stdout"
        }
      ]
    }
  ]
}